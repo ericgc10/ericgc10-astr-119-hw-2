{
 "cells": [
  {
   "cell_type": "code",
   "execution_count": null,
   "metadata": {},
   "outputs": [],
   "source": [
    "import numpy as np     #imports the numpy library that allows us to do the following\n",
    "import matplotlib.pyplot as plt    #importing matplot lib allows us to plot figures\n",
    "%matplotlib inline    \n",
    "\n",
    "\n",
    "x = np.linspace(0,2*np.pi,1000) # defining x from 0 to 2pi, with 1000 values between it-this is the purpose of np.linspace\n",
    "#defining three variables that represent three different graphs which were assigned\n",
    "y_1 = 5.5*np.cos(2 * x) + 5.5 #\n",
    "y_2 = 0.02*np.exp(x)\n",
    "y_3 = 0.25*x**2  + 0.1*np.sin (10 * x)\n",
    "\n",
    "plt.ylim(-1,10) #this adds a range to the y axis between -1 and 10\n",
    "plt.xlim(0,2*np.pi) #this adds a range to the x axis between 0 and 2pi\n",
    "        \n",
    "plt.xlabel('Time in ASTR / EART 119') #adds a label to x axis\n",
    "plt.ylabel('Measures of Awesomeness') # adds a label to the y axis\n",
    "#plt.plot tells the computer to plot the graphs along with their respective conditions such as their ranges, etc\n",
    "plt.plot(x,y_1)\n",
    "plt.plot(x,y_2)\n",
    "plt.plot(x,y_3)\n",
    "plt.show() #tells python to show the figure we want to see"
   ]
  },
  {
   "cell_type": "code",
   "execution_count": null,
   "metadata": {},
   "outputs": [],
   "source": []
  }
 ],
 "metadata": {
  "kernelspec": {
   "display_name": "Python 3",
   "language": "python",
   "name": "python3"
  },
  "language_info": {
   "codemirror_mode": {
    "name": "ipython",
    "version": 3
   },
   "file_extension": ".py",
   "mimetype": "text/x-python",
   "name": "python",
   "nbconvert_exporter": "python",
   "pygments_lexer": "ipython3",
   "version": "3.7.0"
  }
 },
 "nbformat": 4,
 "nbformat_minor": 2
}
